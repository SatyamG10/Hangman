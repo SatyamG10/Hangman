{
 "cells": [
  {
   "cell_type": "code",
   "execution_count": 1,
   "id": "9a2019ee",
   "metadata": {},
   "outputs": [],
   "source": [
    "import json\n",
    "import urllib\n",
    "from urllib.request import urlopen\n",
    "import random\n",
    "import string\n",
    "import math"
   ]
  },
  {
   "cell_type": "code",
   "execution_count": null,
   "id": "94d5d93c",
   "metadata": {},
   "outputs": [],
   "source": [
    "with urlopen(\"https://www.randomlists.com/data/words.json\") as f:\n",
    "    json_list = json.loads(f.read())\n",
    "words_list = json_list[\"data\"]"
   ]
  },
  {
   "cell_type": "code",
   "execution_count": null,
   "id": "b579b87e",
   "metadata": {},
   "outputs": [],
   "source": [
    "# This while statement is to make sure that if our list contains a word with '-' or ' ' in it then it will randomly\n",
    "# choose the word again.\n",
    "\n",
    "def get_random_words(words_list):\n",
    "    \n",
    "    word = random.choice(words_list)\n",
    "    \n",
    "    while '-' in word or ' ' in word:\n",
    "        word = random.choice(words_list)\n",
    "\n",
    "    return word.upper()"
   ]
  },
  {
   "cell_type": "code",
   "execution_count": null,
   "id": "51facc0d",
   "metadata": {},
   "outputs": [],
   "source": [
    "def hangman():\n",
    "    word = get_random_words(words_list)\n",
    "    \n",
    "    set_words = set(word) # distinct letters in the word\n",
    "    \n",
    "    alphabet = set(string.ascii_uppercase)\n",
    "    \n",
    "    used_letters = set() # What the user has guessed\n",
    "\n",
    "    lives = math.ceil(len(word)/2) * 2\n",
    "    \n",
    "    while len(set_words) > 0 and lives > 0:\n",
    "        print(f\"The letters that you have guessed {' '.join(used_letters)}\")\n",
    "        word_list = [letters if letters in used_letters else '-' for letters in word]\n",
    "        print(f\"Current word: {''.join(word_list)}\")\n",
    "        \n",
    "        \n",
    "        user_input = input(\"Please guess any letter: \").upper() # user input\n",
    "\n",
    "        if user_input in alphabet - used_letters:\n",
    "\n",
    "            used_letters.add(user_input)\n",
    "\n",
    "            if user_input in set_words:\n",
    "                set_words.remove(user_input)\n",
    "                print('')\n",
    "                \n",
    "            else:\n",
    "                lives = lives - 1  # takes away a life if wrong\n",
    "                print('\\nYour letter,', user_input, 'is not in the word.')\n",
    "                \n",
    "        elif user_input in used_letters:\n",
    "            print(\"You have already used this letter, kindly guess again\")\n",
    "            continue\n",
    "\n",
    "        else:\n",
    "            print(\"Please enter a valid character\")\n",
    "            continue\n",
    "            \n",
    "    if lives == 0:\n",
    "        print('You died, sorry. The word was', word)\n",
    "        \n",
    "    else:\n",
    "        print('YAY! You guessed the word', word, '!!')"
   ]
  },
  {
   "cell_type": "code",
   "execution_count": null,
   "id": "47bb84ca",
   "metadata": {},
   "outputs": [],
   "source": [
    "if __name__ == '__main__':\n",
    "    hangman()"
   ]
  },
  {
   "cell_type": "code",
   "execution_count": null,
   "id": "a7bbb542",
   "metadata": {},
   "outputs": [],
   "source": []
  },
  {
   "cell_type": "code",
   "execution_count": null,
   "id": "9648c38f",
   "metadata": {},
   "outputs": [],
   "source": []
  }
 ],
 "metadata": {
  "kernelspec": {
   "display_name": "Python 3 (ipykernel)",
   "language": "python",
   "name": "python3"
  },
  "language_info": {
   "codemirror_mode": {
    "name": "ipython",
    "version": 3
   },
   "file_extension": ".py",
   "mimetype": "text/x-python",
   "name": "python",
   "nbconvert_exporter": "python",
   "pygments_lexer": "ipython3",
   "version": "3.9.12"
  }
 },
 "nbformat": 4,
 "nbformat_minor": 5
}
